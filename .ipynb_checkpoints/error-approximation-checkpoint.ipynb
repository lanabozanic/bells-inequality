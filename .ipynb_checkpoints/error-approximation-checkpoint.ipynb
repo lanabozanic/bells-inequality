{
 "cells": [
  {
   "cell_type": "markdown",
   "metadata": {},
   "source": [
    "### Calculating Errors in the Bell Inequality Experiment\n",
    "After we've gethered the following data in the lab, we want to be able to calculate the uncertainty in our overall expectation value of our experiment.\n",
    "\n",
    "From hwp-angle-finding.ipynb we found that we will make our measurements in the following basis:\n",
    "\n",
    "A1 = $Z$ eigenstates: $|0\\rangle$ & $|1\\rangle$ (hwp angles 0 and 45)\n",
    "\n",
    "A2 = $X$ eigenstates: $|+\\rangle$ & $|-\\rangle$ (hwp angles 22.5 and 67.5)\n",
    "\n",
    "and\n",
    "\n",
    "B1 = $-\\frac{1}{\\sqrt{2}}(Z+X)$  eigenstates: $|\\psi\\rangle$ & $|\\phi\\rangle$ (hwp angles 11.25 and 33.25)\n",
    "\n",
    "B2 = $-\\frac{1}{\\sqrt{2}}(Z-X)$  eigenstates: $|\\alpha\\rangle$ & $|\\beta\\rangle$ (hwp angles 56.25 and 78.25)"
   ]
  },
  {
   "cell_type": "code",
   "execution_count": 8,
   "metadata": {},
   "outputs": [],
   "source": [
    "import numpy as np\n",
    "import math"
   ]
  },
  {
   "cell_type": "markdown",
   "metadata": {},
   "source": [
    "Here we have the shots for each expectation value calculation:\n",
    "1. $\\langle A1 \\otimes B1\\rangle$\n",
    "2. $\\langle A1 \\otimes B2\\rangle$\n",
    "3. $\\langle A2\\otimes B1\\rangle$\n",
    "4. $\\langle A2\\otimes B2\\rangle$"
   ]
  },
  {
   "cell_type": "code",
   "execution_count": 1,
   "metadata": {},
   "outputs": [],
   "source": [
    "# data taken from the lab\n",
    "data = [[14137, 64684, 69906, 14469], [66879, 12190, 14014, 71901], [12611, 65493, 71129,11074], [11005, 69035, 69190, 14781]]"
   ]
  },
  {
   "cell_type": "markdown",
   "metadata": {},
   "source": [
    "To calculate each expectation value based on the # of coincidences of the collected data, we compute the following function:\n",
    "\n",
    "$E = \\dfrac{N_{++} - N_{+-} - N_{-+} + N_{--}}{N_{++} + N_{+-} + N_{-+} + N_{--}}$\n",
    "[*where + is the positive eigenstate of and operator, and - is the negative eigenstate.*]\n",
    "\n",
    "and thus, using this fact we calculate the Propogation of uncertainity which is defined as:\n",
    "\n",
    "$\\delta E = \\sqrt{{(\\frac{\\partial E}{\\partial N_{++}}})^2 (\\delta N_{++})^2 + ... + {(\\frac{\\partial E}{\\partial N_{--}}})^2 (\\delta N_{--})^2}$\n",
    "\n",
    "Using poissonian errors we get that for N counts we have $\\delta N = \\sqrt{N}$\n",
    "\n",
    "thus for each expectation value, we have:\n",
    "\n",
    "$\\delta E = \\sqrt{{(\\frac{\\partial E}{\\partial N_{++}}})^2 N_{++} + ... + {(\\frac{\\partial E}{\\partial N_{--}}})^2N_{--}}$"
   ]
  },
  {
   "cell_type": "code",
   "execution_count": 10,
   "metadata": {},
   "outputs": [],
   "source": [
    "# calculate the error in the expectation value given the shots (a,b,c,d)\n",
    "def get_error_in_f(a, b, c, d):\n",
    "    dfda = (2 * b + 2 * c)/ (pow((a + b + c + d), 2)) # partial derivative wrt to a\n",
    "    dfdb = (-2 * a - 2 * d)/ (pow((a + b + c + d), 2)) # partial derivative wrt to b\n",
    "    dfdc = (-2 * a - 2 * d)/ (pow((a + b + c + d), 2)) # partial derivative wrt to c\n",
    "    dfdd = (2 * b + 2 * c)/ (pow((a + b + c + d), 2)) # partial derivative wrt to d\n",
    "    \n",
    "    # propogation of uncertainty forumula\n",
    "    error_f = math.sqrt(pow(dfda, 2) * a + pow(dfdb, 2) * b + pow(dfdc, 2) * c + pow(dfdd, 2) *d)\n",
    "    \n",
    "    return error_f"
   ]
  },
  {
   "cell_type": "markdown",
   "metadata": {},
   "source": [
    "We calculate $\\delta E$ for each pair of basis"
   ]
  },
  {
   "cell_type": "code",
   "execution_count": 11,
   "metadata": {},
   "outputs": [],
   "source": [
    "uncertainties = []\n",
    "for i in range(4):\n",
    "    # calculate the uncertainty in each experiment run (e.g. for expectative value of X*M1, Z*M2 etc)\n",
    "    uncertainties.append(get_error_in_f(data[i][0], data[i][1], data[i][2], data[i][3]))"
   ]
  },
  {
   "cell_type": "markdown",
   "metadata": {},
   "source": [
    "We once again use the propogation of uncertainty formula to calculate the overall uncertainity in "
   ]
  },
  {
   "cell_type": "code",
   "execution_count": 12,
   "metadata": {},
   "outputs": [
    {
     "name": "stdout",
     "output_type": "stream",
     "text": [
      "0.003627101762547285\n"
     ]
    }
   ],
   "source": [
    "error = 0\n",
    "# calculate the error in the entire experiment (add up the experimental errors of each experiment)\n",
    "for i in range(4):\n",
    "    error += pow(uncertainties[i], 2)\n",
    "error = math.sqrt(error)\n",
    "print(error)"
   ]
  },
  {
   "cell_type": "markdown",
   "metadata": {},
   "source": [
    "We find that our error is ~0.0036\n",
    "\n",
    "Thus, in our experiment we find that $\\langle S \\rangle = 2.7218 \\pm 0.0036$\n",
    "\n",
    "Which violates the Bell Inequality, proving entanglement is real! Take that, Local Realism !!!"
   ]
  },
  {
   "cell_type": "code",
   "execution_count": null,
   "metadata": {},
   "outputs": [],
   "source": []
  }
 ],
 "metadata": {
  "kernelspec": {
   "display_name": "Python 3",
   "language": "python",
   "name": "python3"
  },
  "language_info": {
   "codemirror_mode": {
    "name": "ipython",
    "version": 3
   },
   "file_extension": ".py",
   "mimetype": "text/x-python",
   "name": "python",
   "nbconvert_exporter": "python",
   "pygments_lexer": "ipython3",
   "version": "3.7.4"
  }
 },
 "nbformat": 4,
 "nbformat_minor": 2
}
