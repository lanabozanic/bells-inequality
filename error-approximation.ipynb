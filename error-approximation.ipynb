{
 "cells": [
  {
   "cell_type": "code",
   "execution_count": 8,
   "metadata": {},
   "outputs": [],
   "source": [
    "import numpy as np\n",
    "import math"
   ]
  },
  {
   "cell_type": "code",
   "execution_count": 9,
   "metadata": {},
   "outputs": [],
   "source": [
    "# data taken from the lab\n",
    "data = [[14137, 64684, 69906, 14469], [12611, 65493, 71129,11074], [66879, 12190, 14014, 71901], [11005, 69035, 69190, 14781]]"
   ]
  },
  {
   "cell_type": "code",
   "execution_count": 10,
   "metadata": {},
   "outputs": [],
   "source": [
    "# calculate the error in the expectation value given the shots (a,b,c,d)\n",
    "def get_error_in_f(a, b, c, d):\n",
    "    dfda = (2 * b + 2 * c)/ (pow((a + b + c + d), 2)) # partial derivative wrt to a\n",
    "    dfdb = (-2 * a - 2 * d)/ (pow((a + b + c + d), 2)) # partial derivative wrt to b\n",
    "    dfdc = (-2 * a - 2 * d)/ (pow((a + b + c + d), 2)) # partial derivative wrt to c\n",
    "    dfdd = (2 * b + 2 * c)/ (pow((a + b + c + d), 2)) # partial derivative wrt to d\n",
    "    \n",
    "    # propogation of uncertainty forumula\n",
    "    error_f = math.sqrt(pow(dfda, 2) * a + pow(dfdb, 2) * b + pow(dfdc, 2) * c + pow(dfdd, 2) *d)\n",
    "    \n",
    "    return error_f"
   ]
  },
  {
   "cell_type": "code",
   "execution_count": 11,
   "metadata": {},
   "outputs": [],
   "source": [
    "uncertainties = []\n",
    "for i in range(4):\n",
    "    # calculate the uncertainty in each experiment run (e.g. for expectative value of X*M1, Z*M2 etc)\n",
    "    uncertainties.append(get_error_in_f(data[i][0], data[i][1], data[i][2], data[i][3]))"
   ]
  },
  {
   "cell_type": "code",
   "execution_count": 12,
   "metadata": {},
   "outputs": [
    {
     "name": "stdout",
     "output_type": "stream",
     "text": [
      "0.003627101762547285\n"
     ]
    }
   ],
   "source": [
    "error = 0\n",
    "# calculate the error in the entire experiment (add up the experimental errors of each experiment)\n",
    "for i in range(4):\n",
    "    error += pow(uncertainties[i], 2)\n",
    "error = math.sqrt(error)\n",
    "print(error)"
   ]
  },
  {
   "cell_type": "code",
   "execution_count": null,
   "metadata": {},
   "outputs": [],
   "source": []
  }
 ],
 "metadata": {
  "kernelspec": {
   "display_name": "Python 3",
   "language": "python",
   "name": "python3"
  },
  "language_info": {
   "codemirror_mode": {
    "name": "ipython",
    "version": 3
   },
   "file_extension": ".py",
   "mimetype": "text/x-python",
   "name": "python",
   "nbconvert_exporter": "python",
   "pygments_lexer": "ipython3",
   "version": "3.7.4"
  }
 },
 "nbformat": 4,
 "nbformat_minor": 2
}
